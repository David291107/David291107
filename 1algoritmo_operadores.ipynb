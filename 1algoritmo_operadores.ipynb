{
  "nbformat": 4,
  "nbformat_minor": 0,
  "metadata": {
    "colab": {
      "provenance": [],
      "authorship_tag": "ABX9TyPs8CRXWo7o55rtESZxM4BE",
      "include_colab_link": true
    },
    "kernelspec": {
      "name": "python3",
      "display_name": "Python 3"
    },
    "language_info": {
      "name": "python"
    }
  },
  "cells": [
    {
      "cell_type": "markdown",
      "metadata": {
        "id": "view-in-github",
        "colab_type": "text"
      },
      "source": [
        "<a href=\"https://colab.research.google.com/github/David291107/David291107/blob/main/1algoritmo_operadores.ipynb\" target=\"_parent\"><img src=\"https://colab.research.google.com/assets/colab-badge.svg\" alt=\"Open In Colab\"/></a>"
      ]
    },
    {
      "cell_type": "markdown",
      "source": [
        "OPERADORES ARITMÉTICOS"
      ],
      "metadata": {
        "id": "pRsrm6Vj0r7_"
      }
    },
    {
      "cell_type": "code",
      "source": [
        "#adição\n",
        "10 + 2"
      ],
      "metadata": {
        "colab": {
          "base_uri": "https://localhost:8080/"
        },
        "id": "jAm2ELTV2tDv",
        "outputId": "a7adf1bf-175b-4bf8-b64d-dcf49f458527"
      },
      "execution_count": null,
      "outputs": [
        {
          "output_type": "execute_result",
          "data": {
            "text/plain": [
              "12"
            ]
          },
          "metadata": {},
          "execution_count": 2
        }
      ]
    },
    {
      "cell_type": "code",
      "source": [
        "#adição\n",
        "10 - 2"
      ],
      "metadata": {
        "colab": {
          "base_uri": "https://localhost:8080/"
        },
        "id": "a-KuE8eq28ze",
        "outputId": "f621ac78-864d-4d0a-9908-591192ace23c"
      },
      "execution_count": null,
      "outputs": [
        {
          "output_type": "execute_result",
          "data": {
            "text/plain": [
              "8"
            ]
          },
          "metadata": {},
          "execution_count": 3
        }
      ]
    },
    {
      "cell_type": "code",
      "source": [
        "#multiplicação\n",
        "10 * 2"
      ],
      "metadata": {
        "colab": {
          "base_uri": "https://localhost:8080/"
        },
        "id": "Z7_GW0AO4LZ1",
        "outputId": "42a13e26-0065-49e0-b96d-34b4dc39c127"
      },
      "execution_count": null,
      "outputs": [
        {
          "output_type": "execute_result",
          "data": {
            "text/plain": [
              "20"
            ]
          },
          "metadata": {},
          "execution_count": 4
        }
      ]
    },
    {
      "cell_type": "code",
      "source": [
        "#divisão\n",
        "10 / 2"
      ],
      "metadata": {
        "colab": {
          "base_uri": "https://localhost:8080/"
        },
        "id": "Vln73cvs4X49",
        "outputId": "e311c42c-1e3e-4c5e-e707-5259c8f4054a"
      },
      "execution_count": null,
      "outputs": [
        {
          "output_type": "execute_result",
          "data": {
            "text/plain": [
              "5.0"
            ]
          },
          "metadata": {},
          "execution_count": 5
        }
      ]
    },
    {
      "cell_type": "code",
      "source": [
        "#divisão inteira\n",
        "10 // 2"
      ],
      "metadata": {
        "colab": {
          "base_uri": "https://localhost:8080/"
        },
        "id": "z-vDrxJ34hrK",
        "outputId": "289aa692-5c17-434f-cc94-8b99d624b7f9"
      },
      "execution_count": null,
      "outputs": [
        {
          "output_type": "execute_result",
          "data": {
            "text/plain": [
              "5"
            ]
          },
          "metadata": {},
          "execution_count": 6
        }
      ]
    },
    {
      "cell_type": "code",
      "source": [
        "#resto da divisão\n",
        "11 % 2"
      ],
      "metadata": {
        "colab": {
          "base_uri": "https://localhost:8080/"
        },
        "id": "JFUwDUNK4oFV",
        "outputId": "0c1105e6-6535-4b49-d019-b2c5e601199d"
      },
      "execution_count": null,
      "outputs": [
        {
          "output_type": "execute_result",
          "data": {
            "text/plain": [
              "1"
            ]
          },
          "metadata": {},
          "execution_count": 8
        }
      ]
    },
    {
      "cell_type": "code",
      "source": [
        "#potencialização\n",
        "10 ** 2"
      ],
      "metadata": {
        "colab": {
          "base_uri": "https://localhost:8080/"
        },
        "id": "wG4Thofv439W",
        "outputId": "e2a4c66e-223f-46a5-c502-8371aca48ee3"
      },
      "execution_count": null,
      "outputs": [
        {
          "output_type": "execute_result",
          "data": {
            "text/plain": [
              "100"
            ]
          },
          "metadata": {},
          "execution_count": 9
        }
      ]
    },
    {
      "cell_type": "markdown",
      "source": [
        "OPERADORES RELACIONAIS"
      ],
      "metadata": {
        "id": "aloZ4XCL61QN"
      }
    },
    {
      "cell_type": "code",
      "source": [
        "#menor\n",
        "10 < 2"
      ],
      "metadata": {
        "colab": {
          "base_uri": "https://localhost:8080/"
        },
        "id": "2mW-E1-i64l4",
        "outputId": "47e75b00-0ebd-4535-c845-bce533940b24"
      },
      "execution_count": null,
      "outputs": [
        {
          "output_type": "execute_result",
          "data": {
            "text/plain": [
              "False"
            ]
          },
          "metadata": {},
          "execution_count": 10
        }
      ]
    },
    {
      "cell_type": "code",
      "source": [
        "#menor ou igual\n",
        "10 <= 2"
      ],
      "metadata": {
        "colab": {
          "base_uri": "https://localhost:8080/"
        },
        "id": "Ay5xMDpk73PN",
        "outputId": "912d05d7-6d62-4042-e60a-0b26d3c460f3"
      },
      "execution_count": null,
      "outputs": [
        {
          "output_type": "execute_result",
          "data": {
            "text/plain": [
              "False"
            ]
          },
          "metadata": {},
          "execution_count": 11
        }
      ]
    },
    {
      "cell_type": "code",
      "source": [
        "#maior\n",
        "10 > 2"
      ],
      "metadata": {
        "colab": {
          "base_uri": "https://localhost:8080/"
        },
        "id": "8CzU64DY7_YX",
        "outputId": "e9b3ee2a-088a-474b-fbf9-50af034b555e"
      },
      "execution_count": null,
      "outputs": [
        {
          "output_type": "execute_result",
          "data": {
            "text/plain": [
              "True"
            ]
          },
          "metadata": {},
          "execution_count": 12
        }
      ]
    },
    {
      "cell_type": "code",
      "source": [
        "#maior ou igual\n",
        "10 >= 2"
      ],
      "metadata": {
        "colab": {
          "base_uri": "https://localhost:8080/"
        },
        "id": "pueYdNDe8Ie2",
        "outputId": "a862ffc5-d1d6-46fa-bdee-987dc626cfda"
      },
      "execution_count": null,
      "outputs": [
        {
          "output_type": "execute_result",
          "data": {
            "text/plain": [
              "True"
            ]
          },
          "metadata": {},
          "execution_count": 13
        }
      ]
    },
    {
      "cell_type": "code",
      "source": [
        "#igual\n",
        "2 == 2"
      ],
      "metadata": {
        "colab": {
          "base_uri": "https://localhost:8080/"
        },
        "id": "a9Vn3O2N93pY",
        "outputId": "7225ae85-c244-489c-ade2-67d53133c2cd"
      },
      "execution_count": null,
      "outputs": [
        {
          "output_type": "execute_result",
          "data": {
            "text/plain": [
              "True"
            ]
          },
          "metadata": {},
          "execution_count": 20
        }
      ]
    },
    {
      "cell_type": "code",
      "source": [
        "#diferente\n",
        "2 != 1"
      ],
      "metadata": {
        "colab": {
          "base_uri": "https://localhost:8080/"
        },
        "id": "Cqh8HdSI-HK-",
        "outputId": "ecd37165-f7f6-45f1-9fc5-df49fd77f754"
      },
      "execution_count": null,
      "outputs": [
        {
          "output_type": "execute_result",
          "data": {
            "text/plain": [
              "True"
            ]
          },
          "metadata": {},
          "execution_count": 25
        }
      ]
    },
    {
      "cell_type": "markdown",
      "source": [
        "Operadores Lógicos\n",
        "\n",
        "\n",
        "*   And\n",
        "*   Or\n",
        "*   Not\n",
        "\n",
        "\n",
        "\n",
        "\n",
        "\n"
      ],
      "metadata": {
        "id": "y1-uvdO4_HHK"
      }
    },
    {
      "cell_type": "markdown",
      "source": [
        "And"
      ],
      "metadata": {
        "id": "f98Msy11_wqq"
      }
    },
    {
      "cell_type": "code",
      "source": [
        "print(10 > 2 and 4 < 6)      # V and V - V\n",
        "print(10 > 2 and 4 > 6)      # V and F - F\n",
        "print(10 < 2 and 4 < 6)      # F and V - F\n",
        "print(10 < 2 and 4 > 6)      # F and F - F"
      ],
      "metadata": {
        "colab": {
          "base_uri": "https://localhost:8080/"
        },
        "id": "YUlyLo2b_yH0",
        "outputId": "76038255-c91c-4953-924e-bf7077a4fef1"
      },
      "execution_count": null,
      "outputs": [
        {
          "output_type": "stream",
          "name": "stdout",
          "text": [
            "True\n",
            "False\n",
            "False\n",
            "False\n"
          ]
        }
      ]
    },
    {
      "cell_type": "markdown",
      "source": [
        "Or"
      ],
      "metadata": {
        "id": "DmsL3vvCCNPH"
      }
    },
    {
      "cell_type": "code",
      "source": [
        "print(10 > 2 or 4 < 6)      # V and V - V\n",
        "print(10 > 2 or 4 > 6)      # V and F - F\n",
        "print(10 < 2 or 4 < 6)      # F and V - F\n",
        "print(10 < 2 or 4 > 6)      # F and F - F"
      ],
      "metadata": {
        "colab": {
          "base_uri": "https://localhost:8080/"
        },
        "id": "X12huVTZCPUw",
        "outputId": "1cd8a100-5d07-4f25-b555-635d393ae5e6"
      },
      "execution_count": null,
      "outputs": [
        {
          "output_type": "stream",
          "name": "stdout",
          "text": [
            "True\n",
            "True\n",
            "True\n",
            "False\n"
          ]
        }
      ]
    },
    {
      "cell_type": "markdown",
      "source": [
        "Not"
      ],
      "metadata": {
        "id": "n1G0jR6LD6Xp"
      }
    },
    {
      "cell_type": "code",
      "source": [
        "not 10 > 2       # V - F"
      ],
      "metadata": {
        "colab": {
          "base_uri": "https://localhost:8080/"
        },
        "id": "J5in172MEWiB",
        "outputId": "05c290b9-b812-43e8-b443-0136fc50a031"
      },
      "execution_count": null,
      "outputs": [
        {
          "output_type": "execute_result",
          "data": {
            "text/plain": [
              "False"
            ]
          },
          "metadata": {},
          "execution_count": 31
        }
      ]
    },
    {
      "cell_type": "code",
      "source": [
        "not 10 < 2       # F - V"
      ],
      "metadata": {
        "colab": {
          "base_uri": "https://localhost:8080/"
        },
        "id": "pd8EqOJfEqL6",
        "outputId": "be48c5d5-3587-4675-cc88-104746d40949"
      },
      "execution_count": null,
      "outputs": [
        {
          "output_type": "execute_result",
          "data": {
            "text/plain": [
              "True"
            ]
          },
          "metadata": {},
          "execution_count": 32
        }
      ]
    },
    {
      "cell_type": "markdown",
      "source": [
        "# Variáveis\n",
        "## variáveis estão alocadas em espaço na memória"
      ],
      "metadata": {
        "id": "zZJnEMbk4Z_Z"
      }
    },
    {
      "cell_type": "code",
      "source": [
        "# Nome da variável é \"x\" que armazena o valor 10 em um espaço na memória\n",
        "x = 10\n",
        "\n",
        "print (x) #utilizar a referência no nome atribuido"
      ],
      "metadata": {
        "id": "TFkrT8SN4zqa"
      },
      "execution_count": null,
      "outputs": []
    },
    {
      "cell_type": "markdown",
      "source": [
        "regras"
      ],
      "metadata": {
        "id": "X2AzFHs56cGB"
      }
    },
    {
      "cell_type": "markdown",
      "source": [
        "**Case sensitive**\n",
        "A != a\n",
        "\n",
        "**Boas Práticas com Variáveis**\n",
        "\n",
        "> Exemplo: Multiplicação de 2 Números\n",
        "\n",
        "Não usar\n",
        "# Multiplicação\n",
        "# MultiplicaçãoDeDoisNumeros\n",
        "#m\n",
        "\n",
        "Usar\n",
        "#multiplicacao\n",
        "#mult\n",
        "#mult_total (snake_case)"
      ],
      "metadata": {
        "id": "cbE3Kexz6e54"
      }
    },
    {
      "cell_type": "code",
      "source": [
        "somaTotal = 2 + 7\n",
        "print(somaTotal)"
      ],
      "metadata": {
        "id": "JbGpI8u-eas0"
      },
      "execution_count": null,
      "outputs": []
    },
    {
      "cell_type": "markdown",
      "source": [
        "# Visualização de Variáveis e Textos\n"
      ],
      "metadata": {
        "id": "xf9EGv842MZB"
      }
    },
    {
      "cell_type": "code",
      "source": [
        "print (\"conhecendo o comando print\")\n",
        "\n",
        "x = 8\n",
        "print (x)"
      ],
      "metadata": {
        "colab": {
          "base_uri": "https://localhost:8080/"
        },
        "id": "t2UZYQrZ2hHh",
        "outputId": "74b0e7df-24e7-47de-c72e-46f77f68d8e8"
      },
      "execution_count": null,
      "outputs": [
        {
          "output_type": "stream",
          "name": "stdout",
          "text": [
            "conhecendo o comando print\n",
            "8\n"
          ]
        }
      ]
    },
    {
      "cell_type": "code",
      "source": [
        "y = 10\n",
        "soma = x + y\n",
        "print (soma)\n"
      ],
      "metadata": {
        "colab": {
          "base_uri": "https://localhost:8080/"
        },
        "id": "1qsxQZIe2_3q",
        "outputId": "4d0598e7-11cd-4f72-b6e7-e529e649c80f"
      },
      "execution_count": null,
      "outputs": [
        {
          "output_type": "stream",
          "name": "stdout",
          "text": [
            "18\n"
          ]
        }
      ]
    },
    {
      "cell_type": "code",
      "source": [
        "nome = \"rodrigo\"\n",
        "print (nome)\n"
      ],
      "metadata": {
        "colab": {
          "base_uri": "https://localhost:8080/"
        },
        "id": "hh3CuZdj3Ktq",
        "outputId": "4271c0dc-d46d-44d1-b995-abcce36d9d90"
      },
      "execution_count": null,
      "outputs": [
        {
          "output_type": "stream",
          "name": "stdout",
          "text": [
            "rodrigo\n"
          ]
        }
      ]
    },
    {
      "cell_type": "markdown",
      "source": [
        "# Concatenação"
      ],
      "metadata": {
        "id": "S2-I6ASk4d1b"
      }
    },
    {
      "cell_type": "code",
      "source": [
        "x = 5\n",
        "print ('o valor de x é ', x)"
      ],
      "metadata": {
        "colab": {
          "base_uri": "https://localhost:8080/"
        },
        "id": "yqel5JEB4kTh",
        "outputId": "8282bdbb-9f8a-4978-de16-2cefae998250"
      },
      "execution_count": null,
      "outputs": [
        {
          "output_type": "stream",
          "name": "stdout",
          "text": [
            "o valor de x é  5\n"
          ]
        }
      ]
    },
    {
      "cell_type": "code",
      "source": [
        "print ('o valor de x é', x, 'e o dobro é' , x * 2)"
      ],
      "metadata": {
        "colab": {
          "base_uri": "https://localhost:8080/"
        },
        "id": "2wOupFKk5s67",
        "outputId": "c880fd42-0456-4ab7-ba61-4faf3540a731"
      },
      "execution_count": null,
      "outputs": [
        {
          "output_type": "stream",
          "name": "stdout",
          "text": [
            "o valor de x é 5 e o dobro é 10\n"
          ]
        }
      ]
    },
    {
      "cell_type": "code",
      "source": [
        "print ( 'eu,', nome , 'tirei', x , 'na prova de python')"
      ],
      "metadata": {
        "colab": {
          "base_uri": "https://localhost:8080/"
        },
        "id": "dutoEG8Q8NIQ",
        "outputId": "36bc0133-9cf3-4fd4-8b9d-3bd974af5ada"
      },
      "execution_count": null,
      "outputs": [
        {
          "output_type": "stream",
          "name": "stdout",
          "text": [
            "eu, rodrigo tirei 5 na prova de python\n"
          ]
        }
      ]
    },
    {
      "cell_type": "code",
      "source": [
        "y = 10; z= 20 + x - y\n",
        "print('declarar variáveis na mesma linha:' , y, z)"
      ],
      "metadata": {
        "colab": {
          "base_uri": "https://localhost:8080/"
        },
        "id": "EJq4He3K-7iI",
        "outputId": "8cd79bed-cabf-44cf-8446-608158a8e42b"
      },
      "execution_count": null,
      "outputs": [
        {
          "output_type": "stream",
          "name": "stdout",
          "text": [
            "declarar variáveis na mesma linha: 10 15\n"
          ]
        }
      ]
    },
    {
      "cell_type": "markdown",
      "source": [
        "Input\n",
        "\n",
        "\n",
        "\n",
        "*   Armazenar a informação digitada pelo usuário em uma variável\n",
        "*   O dado armazenado sempre será um texto\n",
        "\n"
      ],
      "metadata": {
        "id": "Xuq_kHluCPsm"
      }
    },
    {
      "cell_type": "code",
      "source": [
        "nome = input (\"digite o nome do usuário\") # Aguarda o usuário digitar algo\n",
        "print (nome)"
      ],
      "metadata": {
        "colab": {
          "base_uri": "https://localhost:8080/"
        },
        "id": "JkUWKlOcDhYi",
        "outputId": "7b43bdc9-b888-47ce-b25b-dd706c05a856"
      },
      "execution_count": null,
      "outputs": [
        {
          "output_type": "stream",
          "name": "stdout",
          "text": [
            "digite o nome do usuárioDavid\n",
            "David\n"
          ]
        }
      ]
    },
    {
      "cell_type": "code",
      "source": [
        "valor = input ( ' digite a nota ')\n",
        "print (nome, 'sua nota foi' , valor )"
      ],
      "metadata": {
        "colab": {
          "base_uri": "https://localhost:8080/"
        },
        "id": "I5jeNBMXEvw3",
        "outputId": "a0898d2e-8674-4ac4-dd93-925d21120d15"
      },
      "execution_count": null,
      "outputs": [
        {
          "output_type": "stream",
          "name": "stdout",
          "text": [
            " digite a nota 7\n",
            "David sua nota foi 7\n"
          ]
        }
      ]
    },
    {
      "cell_type": "code",
      "source": [
        "valor = input (' digite o valor do produto ')\n",
        "print (valor)"
      ],
      "metadata": {
        "colab": {
          "base_uri": "https://localhost:8080/"
        },
        "id": "Cdd_2aNJFW5o",
        "outputId": "06909c8b-4d4a-4da5-9615-f7fa3b93d15c"
      },
      "execution_count": null,
      "outputs": [
        {
          "output_type": "stream",
          "name": "stdout",
          "text": [
            " digite o valor do produto 100\n",
            "100\n"
          ]
        }
      ]
    },
    {
      "cell_type": "code",
      "source": [
        "desconto = valor -5"
      ],
      "metadata": {
        "colab": {
          "base_uri": "https://localhost:8080/",
          "height": 141
        },
        "id": "3eW8r2A4Fs3t",
        "outputId": "90b52872-21ac-413d-ad84-1c7bb6f31670"
      },
      "execution_count": null,
      "outputs": [
        {
          "output_type": "error",
          "ename": "TypeError",
          "evalue": "unsupported operand type(s) for -: 'str' and 'int'",
          "traceback": [
            "\u001b[0;31m---------------------------------------------------------------------------\u001b[0m",
            "\u001b[0;31mTypeError\u001b[0m                                 Traceback (most recent call last)",
            "\u001b[0;32m<ipython-input-16-5cc8e7093df1>\u001b[0m in \u001b[0;36m<cell line: 0>\u001b[0;34m()\u001b[0m\n\u001b[0;32m----> 1\u001b[0;31m \u001b[0mdesconto\u001b[0m \u001b[0;34m=\u001b[0m \u001b[0mvalor\u001b[0m \u001b[0;34m-\u001b[0m\u001b[0;36m5\u001b[0m\u001b[0;34m\u001b[0m\u001b[0;34m\u001b[0m\u001b[0m\n\u001b[0m",
            "\u001b[0;31mTypeError\u001b[0m: unsupported operand type(s) for -: 'str' and 'int'"
          ]
        }
      ]
    },
    {
      "cell_type": "code",
      "source": [
        "desconto = int(valor) -5\n",
        "print (desconto)\n"
      ],
      "metadata": {
        "colab": {
          "base_uri": "https://localhost:8080/"
        },
        "id": "pROvRfbHHFKC",
        "outputId": "aed7385b-a342-4b44-f353-21fcbe184aee"
      },
      "execution_count": null,
      "outputs": [
        {
          "output_type": "stream",
          "name": "stdout",
          "text": [
            "95\n"
          ]
        }
      ]
    },
    {
      "cell_type": "markdown",
      "source": [
        "#Condicional"
      ],
      "metadata": {
        "id": "mWAs-oNJ-8JW"
      }
    },
    {
      "cell_type": "code",
      "source": [
        "# if\n",
        "if 55 < 56:\n",
        "  print ( ' verdade ' )"
      ],
      "metadata": {
        "colab": {
          "base_uri": "https://localhost:8080/"
        },
        "id": "_Gd6QJWF_CVI",
        "outputId": "fd341008-c705-4136-d942-e9db75cfd198"
      },
      "execution_count": null,
      "outputs": [
        {
          "output_type": "stream",
          "name": "stdout",
          "text": [
            " verdade \n"
          ]
        }
      ]
    },
    {
      "cell_type": "code",
      "source": [
        "# if/else\n",
        "num1 = 10\n",
        "num2 = 5\n",
        "if num1 > num2:\n",
        "    print ('o num1 é o maior numero')\n",
        "else:\n",
        "    print ('o num2 é o maior numero')"
      ],
      "metadata": {
        "colab": {
          "base_uri": "https://localhost:8080/"
        },
        "id": "AxDc65xb_7Bp",
        "outputId": "ce4d041f-4a55-4895-d608-925c79d89d72"
      },
      "execution_count": null,
      "outputs": [
        {
          "output_type": "stream",
          "name": "stdout",
          "text": [
            "o num1 é o maior numero\n"
          ]
        }
      ]
    },
    {
      "cell_type": "code",
      "source": [
        "# If / Elif / Else\n",
        "num1 = 50\n",
        "num2 = 10\n",
        "if num1 > num2:\n",
        "    print ('o num1 é o maior numero')\n",
        "elif num1 < num2:\n",
        "    print ('o num2 é o maior numero')\n",
        "else:\n",
        "    print ('os numeros são iguais')"
      ],
      "metadata": {
        "id": "ZxIjxoc3Dn9O",
        "colab": {
          "base_uri": "https://localhost:8080/"
        },
        "outputId": "fdf8ad43-3458-4bd3-8b1a-36da42829fae"
      },
      "execution_count": null,
      "outputs": [
        {
          "output_type": "stream",
          "name": "stdout",
          "text": [
            "o num1 é o maior numero\n"
          ]
        }
      ]
    },
    {
      "cell_type": "markdown",
      "source": [
        "# Condicional com operadores lógicos"
      ],
      "metadata": {
        "id": "eF7A_e4dhD4L"
      }
    },
    {
      "cell_type": "code",
      "source": [
        "num1 = 10\n",
        "num2= 5\n",
        "num3 = 2\n",
        "if (num1 > num2) or (num1 > num3):\n",
        "  print ('o num1 é o maior numero')\n",
        "else:\n",
        "  print ('o num2 não é o maior numero')"
      ],
      "metadata": {
        "colab": {
          "base_uri": "https://localhost:8080/"
        },
        "id": "Q0brnyfBhNF5",
        "outputId": "11ee24f2-60d6-42c1-e3fe-c150f9ea3b0c"
      },
      "execution_count": null,
      "outputs": [
        {
          "output_type": "stream",
          "name": "stdout",
          "text": [
            "o num1 é o maior numero\n"
          ]
        }
      ]
    },
    {
      "cell_type": "markdown",
      "source": [
        "# Lista, tuplas e dicionários"
      ],
      "metadata": {
        "id": "hxrrVk5PfTIs"
      }
    },
    {
      "cell_type": "markdown",
      "source": [
        "# Lista"
      ],
      "metadata": {
        "id": "U33N3KlIfrAh"
      }
    },
    {
      "cell_type": "code",
      "source": [
        "lista = [5,'Rodrigo',8.9]"
      ],
      "metadata": {
        "id": "HoxMdBEJiSxB"
      },
      "execution_count": null,
      "outputs": []
    },
    {
      "cell_type": "code",
      "source": [
        "type(lista)"
      ],
      "metadata": {
        "colab": {
          "base_uri": "https://localhost:8080/"
        },
        "id": "h3nGxi-BichQ",
        "outputId": "7edcdd7a-dc13-47ea-9501-b7e45cf7e687"
      },
      "execution_count": null,
      "outputs": [
        {
          "output_type": "execute_result",
          "data": {
            "text/plain": [
              "list"
            ]
          },
          "metadata": {},
          "execution_count": 54
        }
      ]
    },
    {
      "cell_type": "code",
      "source": [
        "lista.append(\"augusto\") # Adiconar um elemento na lista"
      ],
      "metadata": {
        "id": "rLLNWBvyihC3"
      },
      "execution_count": null,
      "outputs": []
    },
    {
      "cell_type": "code",
      "source": [
        "print(lista)\n",
        "print(lista[2])"
      ],
      "metadata": {
        "colab": {
          "base_uri": "https://localhost:8080/"
        },
        "id": "2Qo9clHhirKi",
        "outputId": "561efc5b-3be4-40b1-92db-8b481477d417"
      },
      "execution_count": null,
      "outputs": [
        {
          "output_type": "stream",
          "name": "stdout",
          "text": [
            "[5, 'Rodrigo', 8.9, 'augusto']\n",
            "8.9\n"
          ]
        }
      ]
    },
    {
      "cell_type": "markdown",
      "source": [
        "# Tupla"
      ],
      "metadata": {
        "id": "Y633eggPmYOM"
      }
    },
    {
      "cell_type": "code",
      "source": [
        "tupla = (5,'Rosrigo',8.9)"
      ],
      "metadata": {
        "id": "K7Qi0ahUmZ14"
      },
      "execution_count": null,
      "outputs": []
    },
    {
      "cell_type": "code",
      "source": [
        "type(tupla)"
      ],
      "metadata": {
        "colab": {
          "base_uri": "https://localhost:8080/"
        },
        "id": "Z-NqgrDnmhuQ",
        "outputId": "67a98e00-afa8-468c-f7d6-0892dd858862"
      },
      "execution_count": null,
      "outputs": [
        {
          "output_type": "execute_result",
          "data": {
            "text/plain": [
              "tuple"
            ]
          },
          "metadata": {},
          "execution_count": 64
        }
      ]
    },
    {
      "cell_type": "code",
      "source": [
        "tupla.append(\"augusto\")"
      ],
      "metadata": {
        "colab": {
          "base_uri": "https://localhost:8080/",
          "height": 141
        },
        "id": "yvOkXfwdmot7",
        "outputId": "4da90208-6023-4c62-b66a-dd5b096a9536"
      },
      "execution_count": null,
      "outputs": [
        {
          "output_type": "error",
          "ename": "AttributeError",
          "evalue": "'tuple' object has no attribute 'append'",
          "traceback": [
            "\u001b[0;31m---------------------------------------------------------------------------\u001b[0m",
            "\u001b[0;31mAttributeError\u001b[0m                            Traceback (most recent call last)",
            "\u001b[0;32m<ipython-input-65-bf17241fca7d>\u001b[0m in \u001b[0;36m<cell line: 0>\u001b[0;34m()\u001b[0m\n\u001b[0;32m----> 1\u001b[0;31m \u001b[0mtupla\u001b[0m\u001b[0;34m.\u001b[0m\u001b[0mappend\u001b[0m\u001b[0;34m(\u001b[0m\u001b[0;34m\"augusto\"\u001b[0m\u001b[0;34m)\u001b[0m\u001b[0;34m\u001b[0m\u001b[0;34m\u001b[0m\u001b[0m\n\u001b[0m",
            "\u001b[0;31mAttributeError\u001b[0m: 'tuple' object has no attribute 'append'"
          ]
        }
      ]
    },
    {
      "cell_type": "code",
      "source": [
        "print(tupla)"
      ],
      "metadata": {
        "colab": {
          "base_uri": "https://localhost:8080/"
        },
        "id": "uUIgeNe0mu9w",
        "outputId": "e15e981f-2a65-4c5e-f8d8-c9045a41d782"
      },
      "execution_count": null,
      "outputs": [
        {
          "output_type": "stream",
          "name": "stdout",
          "text": [
            "(5, 'Rosrigo', 8.9)\n"
          ]
        }
      ]
    },
    {
      "cell_type": "markdown",
      "source": [
        "# Dicionário"
      ],
      "metadata": {
        "id": "u8pcuLn1mxp5"
      }
    },
    {
      "cell_type": "code",
      "source": [
        "dicionario = {'nome':'rodrigo' , 'cidade':'são josé dos campos'}"
      ],
      "metadata": {
        "id": "x4PF7SYimzZq"
      },
      "execution_count": null,
      "outputs": []
    },
    {
      "cell_type": "code",
      "source": [
        "print(dicionario)"
      ],
      "metadata": {
        "colab": {
          "base_uri": "https://localhost:8080/"
        },
        "id": "auSD-tVSnI7G",
        "outputId": "9a749b10-3b5e-4c59-cf46-18962944f8f4"
      },
      "execution_count": null,
      "outputs": [
        {
          "output_type": "stream",
          "name": "stdout",
          "text": [
            "{'nome': 'rodrigo', 'cidade': 'são josé dos campos'}\n"
          ]
        }
      ]
    },
    {
      "cell_type": "code",
      "source": [
        "print(dicionario[\"cidade\"])"
      ],
      "metadata": {
        "colab": {
          "base_uri": "https://localhost:8080/"
        },
        "id": "0M1_S-2hnN-f",
        "outputId": "cc471c83-d580-4f05-ee67-b2fb22f151d4"
      },
      "execution_count": null,
      "outputs": [
        {
          "output_type": "stream",
          "name": "stdout",
          "text": [
            "são josé dos campos\n"
          ]
        }
      ]
    },
    {
      "cell_type": "code",
      "source": [
        "dicionario['idade'] = '18'"
      ],
      "metadata": {
        "id": "2-4HgwTBnea0"
      },
      "execution_count": null,
      "outputs": []
    },
    {
      "cell_type": "code",
      "source": [
        "print(dicionario)"
      ],
      "metadata": {
        "colab": {
          "base_uri": "https://localhost:8080/"
        },
        "id": "TJpLzm7Fn80B",
        "outputId": "6838d831-ffd7-463b-f196-8b81f31483ef"
      },
      "execution_count": null,
      "outputs": [
        {
          "output_type": "stream",
          "name": "stdout",
          "text": [
            "{'nome': 'rodrigo', 'cidade': 'são josé dos campos', 'idade': '18'}\n"
          ]
        }
      ]
    },
    {
      "cell_type": "markdown",
      "source": [
        "# Estrutura de repetição"
      ],
      "metadata": {
        "id": "q_V9Zc6rT754"
      }
    },
    {
      "cell_type": "markdown",
      "source": [
        "# For"
      ],
      "metadata": {
        "id": "7VQrD5yxUA51"
      }
    },
    {
      "cell_type": "code",
      "source": [
        "# For Range\n",
        "for contador in range(10):\n",
        " print(contador)"
      ],
      "metadata": {
        "colab": {
          "base_uri": "https://localhost:8080/"
        },
        "id": "uzJO5jXzUCVb",
        "outputId": "15cb89fc-4b86-49ab-b002-ed7f5eeb23c6"
      },
      "execution_count": null,
      "outputs": [
        {
          "output_type": "stream",
          "name": "stdout",
          "text": [
            "0\n",
            "1\n",
            "2\n",
            "3\n",
            "4\n",
            "5\n",
            "6\n",
            "7\n",
            "8\n",
            "9\n"
          ]
        }
      ]
    },
    {
      "cell_type": "code",
      "source": [
        "# For Range + Break\n",
        "for contador in range(1000):\n",
        "  print(contador)\n",
        "  if contador == 2:\n",
        "    break"
      ],
      "metadata": {
        "colab": {
          "base_uri": "https://localhost:8080/"
        },
        "id": "UXo74HVQWWOi",
        "outputId": "77ce3e7d-82a1-4b42-e384-2833c8d85844"
      },
      "execution_count": null,
      "outputs": [
        {
          "output_type": "stream",
          "name": "stdout",
          "text": [
            "0\n",
            "1\n",
            "2\n"
          ]
        }
      ]
    },
    {
      "cell_type": "code",
      "source": [
        "lista = [\"teste1\",\"teste2\"] # Definir a lista"
      ],
      "metadata": {
        "id": "Mx55Rh8FXUm_"
      },
      "execution_count": null,
      "outputs": []
    },
    {
      "cell_type": "code",
      "source": [
        "# For simples\n",
        "for val in lista:\n",
        " print(val)"
      ],
      "metadata": {
        "colab": {
          "base_uri": "https://localhost:8080/"
        },
        "id": "LtjtOONPXh2D",
        "outputId": "cd777dad-629e-4f08-cb17-9df0dbb4f1da"
      },
      "execution_count": null,
      "outputs": [
        {
          "output_type": "stream",
          "name": "stdout",
          "text": [
            "teste1\n",
            "teste2\n"
          ]
        }
      ]
    },
    {
      "cell_type": "code",
      "source": [
        "# For com Enumerate\n",
        "for i, val in enumerate(lista):\n",
        "  print(i,val)"
      ],
      "metadata": {
        "colab": {
          "base_uri": "https://localhost:8080/"
        },
        "id": "q9dJJ68Td8j3",
        "outputId": "dda570b4-6080-4fcd-e2c3-13c2d5e11eec"
      },
      "execution_count": null,
      "outputs": [
        {
          "output_type": "stream",
          "name": "stdout",
          "text": [
            "0 teste1\n",
            "1 teste2\n"
          ]
        }
      ]
    },
    {
      "cell_type": "markdown",
      "source": [
        "# For com operadores compostos"
      ],
      "metadata": {
        "id": "I7Rytzx9gY-I"
      }
    },
    {
      "cell_type": "code",
      "source": [
        "lista2 = [2 , 3 , 4]"
      ],
      "metadata": {
        "id": "CpouVn7lguTG"
      },
      "execution_count": null,
      "outputs": []
    },
    {
      "cell_type": "code",
      "source": [
        "for val in (lista2):\n",
        "  val += 1\n",
        "  print(val)"
      ],
      "metadata": {
        "colab": {
          "base_uri": "https://localhost:8080/"
        },
        "id": "aNgLty4Kg1He",
        "outputId": "44188a65-ac39-40e8-ebaf-6132435125bf"
      },
      "execution_count": null,
      "outputs": [
        {
          "output_type": "stream",
          "name": "stdout",
          "text": [
            "3\n",
            "4\n",
            "5\n"
          ]
        }
      ]
    },
    {
      "cell_type": "code",
      "source": [
        "for val in (lista2):\n",
        "  val *= 2\n",
        "  print(val)"
      ],
      "metadata": {
        "colab": {
          "base_uri": "https://localhost:8080/"
        },
        "id": "5mUOiq90jL8y",
        "outputId": "39741055-401e-4851-8645-aaa52cbf26af"
      },
      "execution_count": null,
      "outputs": [
        {
          "output_type": "stream",
          "name": "stdout",
          "text": [
            "4\n",
            "6\n",
            "8\n"
          ]
        }
      ]
    },
    {
      "cell_type": "markdown",
      "source": [
        "# While"
      ],
      "metadata": {
        "id": "cyx40jc5m4Kw"
      }
    },
    {
      "cell_type": "code",
      "source": [
        "val = 1\n",
        "while (val < 25):\n",
        "   val *=3\n",
        "   print(val)"
      ],
      "metadata": {
        "colab": {
          "base_uri": "https://localhost:8080/"
        },
        "id": "DkifevZYm5zX",
        "outputId": "3299422d-2a8b-4dd4-c4bb-878c359c02d3"
      },
      "execution_count": null,
      "outputs": [
        {
          "output_type": "stream",
          "name": "stdout",
          "text": [
            "3\n",
            "9\n",
            "27\n"
          ]
        }
      ]
    },
    {
      "cell_type": "markdown",
      "source": [
        "# While com else"
      ],
      "metadata": {
        "id": "gsFdrKvEr01I"
      }
    },
    {
      "cell_type": "code",
      "source": [
        "val = 3\n",
        "while val < 45:\n",
        "  val *=2\n",
        "else:\n",
        "  print('o valor de val é' , val)"
      ],
      "metadata": {
        "colab": {
          "base_uri": "https://localhost:8080/"
        },
        "id": "nqkHFFRir6YK",
        "outputId": "020aae71-64a9-462d-cbd6-62121d43d19b"
      },
      "execution_count": null,
      "outputs": [
        {
          "output_type": "stream",
          "name": "stdout",
          "text": [
            "o valor de val é 48\n"
          ]
        }
      ]
    }
  ]
}