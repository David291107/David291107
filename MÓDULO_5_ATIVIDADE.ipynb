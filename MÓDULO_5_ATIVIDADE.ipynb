{
  "nbformat": 4,
  "nbformat_minor": 0,
  "metadata": {
    "colab": {
      "provenance": [],
      "authorship_tag": "ABX9TyMBgSRabErqL9PCso0lJlIb",
      "include_colab_link": true
    },
    "kernelspec": {
      "name": "python3",
      "display_name": "Python 3"
    },
    "language_info": {
      "name": "python"
    }
  },
  "cells": [
    {
      "cell_type": "markdown",
      "metadata": {
        "id": "view-in-github",
        "colab_type": "text"
      },
      "source": [
        "<a href=\"https://colab.research.google.com/github/David291107/David291107/blob/main/M%C3%93DULO_5_ATIVIDADE.ipynb\" target=\"_parent\"><img src=\"https://colab.research.google.com/assets/colab-badge.svg\" alt=\"Open In Colab\"/></a>"
      ]
    },
    {
      "cell_type": "markdown",
      "source": [
        "* Utilize o comando 'input' para receber ao menos 2 números de entrada do usuário;\n",
        "\n",
        "* Converta os valores recebidos pelo usuário para número inteiro (int) ou ponto flutuante (float);\n",
        "\n",
        "* Implemente ao menos 4 operações matemáticas em seu código;\n",
        "\n",
        "* Adicione um laço de repetição ou uma condicional. Por exemplo: você pode permitir que o usuário escolha qual operação realizar ou criar um loop que permita ao usuário realizar várias operações consecutivas;\n",
        "\n",
        "* Utilize o comando 'print' para exibir o resultado da operação matemática."
      ],
      "metadata": {
        "id": "RR25upz-dSq5"
      }
    },
    {
      "cell_type": "markdown",
      "source": [
        "# CALCULADORA"
      ],
      "metadata": {
        "id": "mSXuFrOMdab5"
      }
    },
    {
      "cell_type": "code",
      "source": [
        "while True:\n",
        "  num1 = float(input(\"\\nDigite o primeiro número: \"))\n",
        "  num2 = float(input(\"Digite o segundo número: \"))\n",
        "\n",
        "  print(\"\\nEscolha uma opção de 1 á 7:\")\n",
        "  print(\"1 - Soma\")\n",
        "  print(\"2 - subtração\")\n",
        "  print(\"3 - Multiplicação\")\n",
        "  print(\"4 - Divisão\")\n",
        "  print(\"5 - Resto da divisão\")\n",
        "  print(\"6 - Potencialização\")\n",
        "  print(\"7 - Sair\")\n",
        "\n",
        "  opção = input(\"Digite o número da opção desejada: \")\n",
        "\n",
        "  if opção == \"1\":\n",
        "   print(\"Resultado da Soma\", num1 + num2)\n",
        "  elif opção == \"2\":\n",
        "   print(\"Resultado da Subtração\", num1 - num2)\n",
        "  elif opção == \"3\":\n",
        "   print(\"Resultado da Multiplicação\", num1 * num2)\n",
        "  elif opção == \"4\":\n",
        "      if num2 !=0:\n",
        "        print(\"Resultado da Divisão\", num1 / num2)\n",
        "\n",
        "      else:\n",
        "       print(\"Não é possível dividir por zero\")\n",
        "\n",
        "  elif opção == \"5\":\n",
        "     if num2 !=0:\n",
        "        print(\"Resto da Divisão\", num1 % num2)\n",
        "\n",
        "     else:\n",
        "       print(\"Não é possível dividir por zero\")\n",
        "\n",
        "  elif opção == \"6\":\n",
        "     print(\"Resultado da Potencialização\", num1 ** num2)\n",
        "  elif opção == \"7\":\n",
        "      print(\"Saindo da calculadora...\")\n",
        "      break\n",
        "  else:\n",
        "      print(\"opção inválida! Escolha um número de 1 á 7.\")"
      ],
      "metadata": {
        "colab": {
          "base_uri": "https://localhost:8080/"
        },
        "id": "Xp-wnoR6ptWA",
        "outputId": "3eeb22cc-fe66-4ea0-dbf5-ccaff30b1359"
      },
      "execution_count": 20,
      "outputs": [
        {
          "output_type": "stream",
          "name": "stdout",
          "text": [
            "\n",
            "Digite o primeiro número: 84\n",
            "Digite o segundo número: 20\n",
            "\n",
            "Escolha uma opção de 1 á 7:\n",
            "1 - Soma\n",
            "2 - subtração\n",
            "3 - Multiplicação\n",
            "4 - Divisão\n",
            "5 - Resto da divisão\n",
            "6 - Potencialização\n",
            "7 - Sair\n",
            "Digite o número da opção desejada: 6\n",
            "Resultado da Potencialização 3.0590439823849992e+38\n",
            "\n",
            "Digite o primeiro número: 84\n",
            "Digite o segundo número: 20\n",
            "\n",
            "Escolha uma opção de 1 á 7:\n",
            "1 - Soma\n",
            "2 - subtração\n",
            "3 - Multiplicação\n",
            "4 - Divisão\n",
            "5 - Resto da divisão\n",
            "6 - Potencialização\n",
            "7 - Sair\n",
            "Digite o número da opção desejada: 3\n",
            "Resultado da Multiplicação 1680.0\n",
            "\n",
            "Digite o primeiro número: 84\n",
            "Digite o segundo número: 20\n",
            "\n",
            "Escolha uma opção de 1 á 7:\n",
            "1 - Soma\n",
            "2 - subtração\n",
            "3 - Multiplicação\n",
            "4 - Divisão\n",
            "5 - Resto da divisão\n",
            "6 - Potencialização\n",
            "7 - Sair\n",
            "Digite o número da opção desejada: 4\n",
            "Resultado da Divisão 4.2\n",
            "\n",
            "Digite o primeiro número: 84\n",
            "Digite o segundo número: 20\n",
            "\n",
            "Escolha uma opção de 1 á 7:\n",
            "1 - Soma\n",
            "2 - subtração\n",
            "3 - Multiplicação\n",
            "4 - Divisão\n",
            "5 - Resto da divisão\n",
            "6 - Potencialização\n",
            "7 - Sair\n",
            "Digite o número da opção desejada: 1\n",
            "Resultado da Soma 104.0\n",
            "\n",
            "Digite o primeiro número: 84\n",
            "Digite o segundo número: 0\n",
            "\n",
            "Escolha uma opção de 1 á 7:\n",
            "1 - Soma\n",
            "2 - subtração\n",
            "3 - Multiplicação\n",
            "4 - Divisão\n",
            "5 - Resto da divisão\n",
            "6 - Potencialização\n",
            "7 - Sair\n",
            "Digite o número da opção desejada: 4\n",
            "Não é possível dividir por zero\n",
            "\n",
            "Digite o primeiro número: 84\n",
            "Digite o segundo número: 20\n",
            "\n",
            "Escolha uma opção de 1 á 7:\n",
            "1 - Soma\n",
            "2 - subtração\n",
            "3 - Multiplicação\n",
            "4 - Divisão\n",
            "5 - Resto da divisão\n",
            "6 - Potencialização\n",
            "7 - Sair\n",
            "Digite o número da opção desejada: 2\n",
            "Resultado da Subtração 64.0\n",
            "\n",
            "Digite o primeiro número: 84\n",
            "Digite o segundo número: 20\n",
            "\n",
            "Escolha uma opção de 1 á 7:\n",
            "1 - Soma\n",
            "2 - subtração\n",
            "3 - Multiplicação\n",
            "4 - Divisão\n",
            "5 - Resto da divisão\n",
            "6 - Potencialização\n",
            "7 - Sair\n",
            "Digite o número da opção desejada: 7\n",
            "Saindo da calculadora...\n"
          ]
        }
      ]
    }
  ]
}